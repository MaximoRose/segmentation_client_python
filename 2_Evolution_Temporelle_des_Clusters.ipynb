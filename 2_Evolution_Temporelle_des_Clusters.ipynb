{
 "cells": [
  {
   "attachments": {},
   "cell_type": "markdown",
   "metadata": {},
   "source": [
    "# EVALUER UNE FREQUENCE DE MAINTENANCE"
   ]
  },
  {
   "attachments": {},
   "cell_type": "markdown",
   "metadata": {},
   "source": [
    "Dans les fichiers précédents, nous avons exploré les données pour les regrouper en une table exploitable, puis nous avons testé plusieurs modèles de clusterisation. \n",
    "\n",
    "- On va repartir du tableau de synthèse des commandes : \n",
    "   - On va sélectionner une base de départ (les commandes avant 2018) \n",
    "- Le retransformer en tableau de synthèses des clients\n",
    "- Appliquer notre clusterisation\n",
    "\n",
    "Ensuite, on va étendre notre base de départ à l'ensemble des commandes réalisées le mois suivant, puis réitérer. Cela va nous permettre d'evaluer comment le drift des donnees influe sur notre modele de segmentation afin d'etablir d'une frequence de maintenance ad hoc."
   ]
  },
  {
   "attachments": {},
   "cell_type": "markdown",
   "metadata": {},
   "source": [
    "# 0. Includes et fonctions globales"
   ]
  },
  {
   "cell_type": "code",
   "execution_count": 1,
   "metadata": {
    "ExecuteTime": {
     "end_time": "2023-08-21T17:13:44.721603600Z",
     "start_time": "2023-08-21T17:13:44.475980157Z"
    }
   },
   "outputs": [],
   "source": [
    "import pandas as pd\n",
    "import matplotlib.pyplot as plt\n",
    "import datetime as dt\n",
    "\n",
    "# Libraires Scikit\n",
    "from sklearn.preprocessing import StandardScaler\n",
    "from sklearn.cluster import AgglomerativeClustering\n",
    "from sklearn.cluster import KMeans\n",
    "from sklearn.cluster import DBSCAN\n",
    "\n",
    "# Ajouter facilement un time_delta\n",
    "from dateutil.relativedelta import relativedelta\n",
    "\n",
    "# ARI pour mesurer l'évolution de notre labelling\n",
    "from sklearn.metrics.cluster import adjusted_rand_score"
   ]
  },
  {
   "cell_type": "code",
   "execution_count": 2,
   "metadata": {
    "ExecuteTime": {
     "end_time": "2023-08-21T17:13:46.396017Z",
     "start_time": "2023-08-21T17:13:46.384423631Z"
    }
   },
   "outputs": [],
   "source": [
    "# Permet de transformer la date de dernier achat en \"recence\", i.e le nombre de jour qui separe le derniere achat de DATEREF\n",
    "DATEREF = dt.datetime(2019, 1, 1, 0, 0, 0)\n",
    "\n",
    "# On va fixer certains parametres du KMEANS pour s'assurer de chercher le meilleur k dans une configuration maitrisee.\n",
    "KMEANS_NINIT = 10\n",
    "KMEANS_RANDSTATE = 10"
   ]
  },
  {
   "cell_type": "code",
   "execution_count": 3,
   "metadata": {
    "ExecuteTime": {
     "end_time": "2023-08-21T17:14:02.535404503Z",
     "start_time": "2023-08-21T17:14:02.528446376Z"
    }
   },
   "outputs": [],
   "source": [
    "def creer_tableau_synthese(df_ini, date_ref = DATEREF) :\n",
    "    # Montant total depense par client\n",
    "    synthese_df = df_ini.groupby(by='customer_unique_id')['payment_value'].sum().reset_index()\n",
    "    \n",
    "    # Frequence d'achat (ou plutot nombre de commandes)\n",
    "    nb_commandes = df_ini['customer_unique_id'].value_counts().reset_index()\n",
    "    nb_commandes.rename(columns={'count' : 'nbcommandes'}, inplace=True)\n",
    "    synthese_df = synthese_df.merge(nb_commandes, on='customer_unique_id', how='left')\n",
    "\n",
    "    # Date de dernier achat (Recence)\n",
    "    df_ini = df_ini.sort_values(by='order_purchase_timestamp', ascending=False)\n",
    "    tmp = df_ini[~df_ini['customer_unique_id'].duplicated(keep='first')]\n",
    "    tmp = tmp[['order_purchase_timestamp', 'customer_unique_id']]\n",
    "    synthese_df = synthese_df.merge(tmp, on='customer_unique_id', how='left')\n",
    "    # Transforme date de dernier achat en recence\n",
    "    synthese_df['recence'] = (date_ref - synthese_df['order_purchase_timestamp']).apply(lambda x: x.days)\n",
    "    synthese_df.drop(columns = ['order_purchase_timestamp'], inplace = True)\n",
    "\n",
    "    # Avis moyen\n",
    "    tmp = df_ini.groupby('customer_unique_id')['review_score'].mean().reset_index()\n",
    "    synthese_df = synthese_df.merge(tmp, on='customer_unique_id', how='left')\n",
    "\n",
    "    # Nombre moyen d'item par commande\n",
    "    tmp = df_ini.groupby('customer_unique_id')['nb_items'].mean().reset_index()\n",
    "    synthese_df = synthese_df.merge(tmp, on='customer_unique_id', how='left')\n",
    "\n",
    "    # Nombre de reducs utilisees\n",
    "    tmp = df_ini.groupby('customer_unique_id')['reducs'].sum().reset_index()\n",
    "    synthese_df = synthese_df.merge(tmp, on='customer_unique_id', how='left')\n",
    "    # # on dummyfie l'utilisation de reductions\n",
    "    # synthese_df.loc[synthese_df['reducs'] > 0] = 1\n",
    "\n",
    "\n",
    "    # Montant total des reducs utilisees\n",
    "    tmp = df_ini.groupby('customer_unique_id')['montant_reducs'].sum().reset_index()\n",
    "    synthese_df = synthese_df.merge(tmp, on='customer_unique_id', how='left')\n",
    "    # Categorie preferee du client\n",
    "    # On cree un tableau qui croise le nombre d'occurences des categories en fonction des references clients\n",
    "    tmp_xtab = pd.crosstab(df_ini['cat_produit'], df_ini['customer_unique_id'])\n",
    "    tmp = tmp_xtab.idxmax().reset_index()\n",
    "    tmp.rename(columns={0 : 'categorie_produit_preferee'}, inplace=True)\n",
    "    synthese_df = synthese_df.merge(tmp, on='customer_unique_id', how='left')\n",
    "    # Rennommage des colonnes pour lisibilite\n",
    "    synthese_df.rename(columns={'customer_unique_id' : 'client', 'payment_value' : 'depense', 'review_score' : 'avis_moyen', 'nb_items' : 'nb_items_moyen'}, inplace=True)\n",
    "    \n",
    "    return synthese_df"
   ]
  },
  {
   "attachments": {},
   "cell_type": "markdown",
   "metadata": {},
   "source": [
    "# 1. Tableau de synthèse des commandes"
   ]
  },
  {
   "cell_type": "code",
   "execution_count": 4,
   "metadata": {
    "ExecuteTime": {
     "end_time": "2023-08-21T17:14:09.456768240Z",
     "start_time": "2023-08-21T17:14:09.213014055Z"
    }
   },
   "outputs": [],
   "source": [
    "df = pd.read_csv('./data_travail/df_merged.csv')\n",
    "df['order_purchase_timestamp'] = pd.to_datetime(df['order_purchase_timestamp'],yearfirst=True)"
   ]
  },
  {
   "cell_type": "code",
   "execution_count": 5,
   "metadata": {
    "ExecuteTime": {
     "end_time": "2023-08-21T17:14:12.078739793Z",
     "start_time": "2023-08-21T17:14:12.065827191Z"
    }
   },
   "outputs": [
    {
     "name": "stdout",
     "output_type": "stream",
     "text": [
      "Date min :  2016-09-15 12:16:38\n",
      "Date max :  2018-08-29 15:00:37\n",
      "nb Commandes :  96478\n",
      "Jours qui separent la date min de la date max du dataset :  713\n"
     ]
    }
   ],
   "source": [
    "print(\"Date min : \" , df['order_purchase_timestamp'].min())\n",
    "print(\"Date max : \" , df['order_purchase_timestamp'].max())\n",
    "print(\"nb Commandes : \" , df.shape[0])\n",
    "print(\"Jours qui separent la date min de la date max du dataset : \", (df['order_purchase_timestamp'].max() - df['order_purchase_timestamp'].min()).days)"
   ]
  },
  {
   "attachments": {},
   "cell_type": "markdown",
   "metadata": {},
   "source": [
    "On a un peu moins de deux ans de donnnées. \n",
    "\n",
    "On faire comme si notre clusterisation commençait le 1/1/2018.\n",
    "- puis on ajoutera, chaque mois, les donnees du mois passé. \n",
    "- Et on fera notre clusterisation pour estimer l'ARI"
   ]
  },
  {
   "cell_type": "code",
   "execution_count": 6,
   "metadata": {
    "ExecuteTime": {
     "end_time": "2023-08-21T17:14:29.562846001Z",
     "start_time": "2023-08-21T17:14:29.494174093Z"
    }
   },
   "outputs": [
    {
     "name": "stdout",
     "output_type": "stream",
     "text": [
      "Nb commandes sous date seuil :  43695\n"
     ]
    }
   ],
   "source": [
    "date_seuil_0 = dt.datetime(2018, 1, 1, 0, 0, 0)\n",
    "df_t0 = df[df['order_purchase_timestamp'] < date_seuil_0]\n",
    "print(\"Nb commandes sous date seuil : \", df_t0.shape[0])"
   ]
  },
  {
   "attachments": {},
   "cell_type": "markdown",
   "metadata": {},
   "source": [
    "# 2. Évolution de la clusterisation en 8 mois\n",
    "\n",
    "Dans ce fichier, on ne va realiser notre analyse que pour le 7-Means. Mais on pourrait aussi utiliser cette methode pour nous aider choisir un algorithme de clusterisation qui necessite le moins de maintenance possible"
   ]
  },
  {
   "attachments": {},
   "cell_type": "markdown",
   "metadata": {},
   "source": [
    "## 2.1. K-Means, avec k=7"
   ]
  },
  {
   "cell_type": "code",
   "execution_count": 7,
   "metadata": {
    "ExecuteTime": {
     "end_time": "2023-08-21T17:17:05.707596172Z",
     "start_time": "2023-08-21T17:17:05.665915407Z"
    }
   },
   "outputs": [],
   "source": [
    "n_clusters = 7"
   ]
  },
  {
   "cell_type": "code",
   "execution_count": 8,
   "metadata": {
    "ExecuteTime": {
     "end_time": "2023-08-21T17:17:15.951410317Z",
     "start_time": "2023-08-21T17:17:07.834220256Z"
    }
   },
   "outputs": [
    {
     "data": {
      "text/plain": "                             client  depense  nbcommandes  recence  \\\n0  0000366f3b9a7992bf8c76cfdf3221e2   141.90            1      235   \n1  0000b849f77a49e4a4ce2b2a4ca5be3f    27.19            1      238   \n\n   avis_moyen  nb_items_moyen  reducs  montant_reducs  \\\n0         5.0             1.0     0.0             0.0   \n1         4.0             1.0     0.0             0.0   \n\n  categorie_produit_preferee  \n0             bed_bath_table  \n1              health_beauty  ",
      "text/html": "<div>\n<style scoped>\n    .dataframe tbody tr th:only-of-type {\n        vertical-align: middle;\n    }\n\n    .dataframe tbody tr th {\n        vertical-align: top;\n    }\n\n    .dataframe thead th {\n        text-align: right;\n    }\n</style>\n<table border=\"1\" class=\"dataframe\">\n  <thead>\n    <tr style=\"text-align: right;\">\n      <th></th>\n      <th>client</th>\n      <th>depense</th>\n      <th>nbcommandes</th>\n      <th>recence</th>\n      <th>avis_moyen</th>\n      <th>nb_items_moyen</th>\n      <th>reducs</th>\n      <th>montant_reducs</th>\n      <th>categorie_produit_preferee</th>\n    </tr>\n  </thead>\n  <tbody>\n    <tr>\n      <th>0</th>\n      <td>0000366f3b9a7992bf8c76cfdf3221e2</td>\n      <td>141.90</td>\n      <td>1</td>\n      <td>235</td>\n      <td>5.0</td>\n      <td>1.0</td>\n      <td>0.0</td>\n      <td>0.0</td>\n      <td>bed_bath_table</td>\n    </tr>\n    <tr>\n      <th>1</th>\n      <td>0000b849f77a49e4a4ce2b2a4ca5be3f</td>\n      <td>27.19</td>\n      <td>1</td>\n      <td>238</td>\n      <td>4.0</td>\n      <td>1.0</td>\n      <td>0.0</td>\n      <td>0.0</td>\n      <td>health_beauty</td>\n    </tr>\n  </tbody>\n</table>\n</div>"
     },
     "execution_count": 8,
     "metadata": {},
     "output_type": "execute_result"
    }
   ],
   "source": [
    "dfc = creer_tableau_synthese(df_ini=df, date_ref=DATEREF)\n",
    "dfc.head(2)"
   ]
  },
  {
   "cell_type": "code",
   "execution_count": 9,
   "metadata": {
    "ExecuteTime": {
     "end_time": "2023-08-21T17:18:01.803465218Z",
     "start_time": "2023-08-21T17:17:18.171015655Z"
    }
   },
   "outputs": [],
   "source": [
    "ref_clients = pd.DataFrame()\n",
    "ref_clients['client'] = dfc['client']\n",
    "new_date = date_seuil_0\n",
    "\n",
    "for i in range(0, 8) : \n",
    "    # Faire evoluer la date\n",
    "    new_date = date_seuil_0 + relativedelta(months=i)\n",
    "    DATEREF = new_date\n",
    "    # Faire evoluer le tableau de commandes\n",
    "    df_current = df[df['order_purchase_timestamp'] < DATEREF]\n",
    "    # Generer une nouvelle synthese client\n",
    "    sdf = creer_tableau_synthese(df_ini=df_current, date_ref=DATEREF)\n",
    "    # Realiser un clustering\n",
    "    dfw = sdf.drop(columns=['client', 'categorie_produit_preferee', 'reducs', 'montant_reducs'])\n",
    "    X = dfw.values\n",
    "    X_scaled = StandardScaler().fit_transform(X)\n",
    "    if i == 0 : # On initie le model au debut\n",
    "        model = KMeans(n_init = KMEANS_NINIT, n_clusters=n_clusters, random_state=KMEANS_RANDSTATE)\n",
    "        model.fit(X_scaled)\n",
    "    # Sauvegarder les resultats\n",
    "    sdf.loc[:, f'k7_labels_iter_{i}'] = model.predict(X_scaled)\n",
    "    ref_clients = ref_clients.merge(sdf[['client', f'k7_labels_iter_{i}']], on='client', how='left')\n"
   ]
  },
  {
   "cell_type": "code",
   "execution_count": 10,
   "metadata": {
    "ExecuteTime": {
     "end_time": "2023-08-21T17:18:03.939494638Z",
     "start_time": "2023-08-21T17:18:03.933249209Z"
    }
   },
   "outputs": [
    {
     "data": {
      "text/plain": "client                  0\nk7_labels_iter_0    50963\nk7_labels_iter_1    44121\nk7_labels_iter_2    37833\nk7_labels_iter_3    31059\nk7_labels_iter_4    24477\nk7_labels_iter_5    17971\nk7_labels_iter_6    12093\nk7_labels_iter_7     6144\ndtype: int64"
     },
     "execution_count": 10,
     "metadata": {},
     "output_type": "execute_result"
    }
   ],
   "source": [
    "ref_clients.isna().sum()"
   ]
  },
  {
   "attachments": {},
   "cell_type": "markdown",
   "metadata": {},
   "source": [
    "Chaque mois, on gagne entre 5 et 7 mille clients."
   ]
  },
  {
   "cell_type": "code",
   "execution_count": 11,
   "metadata": {
    "ExecuteTime": {
     "end_time": "2023-08-21T17:18:23.971560770Z",
     "start_time": "2023-08-21T17:18:23.930591808Z"
    }
   },
   "outputs": [],
   "source": [
    "anciens_clients = ref_clients[~ref_clients['k7_labels_iter_0'].isna()]"
   ]
  },
  {
   "cell_type": "code",
   "execution_count": 12,
   "metadata": {
    "ExecuteTime": {
     "end_time": "2023-08-21T17:18:25.035857723Z",
     "start_time": "2023-08-21T17:18:25.028043810Z"
    }
   },
   "outputs": [
    {
     "data": {
      "text/plain": "                              client  k7_labels_iter_0  k7_labels_iter_1  \\\n2   0000f46a3911fa3c0805444483337064               1.0               1.0   \n3   0000f6ccb0745a6a4b88665a16c9f078               6.0               6.0   \n4   0004aac84e0df4da2b147fca70cf8255               6.0               6.0   \n8   0005e1862207bf6ccc02e4228effd9a0               1.0               1.0   \n10  0006fdc98a402fceb4eb0ee528f6a8d4               2.0               2.0   \n\n    k7_labels_iter_2  k7_labels_iter_3  k7_labels_iter_4  k7_labels_iter_5  \\\n2                1.0               1.0               1.0               1.0   \n3                6.0               6.0               6.0               1.0   \n4                6.0               6.0               6.0               6.0   \n8                1.0               1.0               1.0               1.0   \n10               1.0               1.0               1.0               1.0   \n\n    k7_labels_iter_6  k7_labels_iter_7  \n2                1.0               1.0  \n3                1.0               1.0  \n4                6.0               1.0  \n8                1.0               1.0  \n10               1.0               1.0  ",
      "text/html": "<div>\n<style scoped>\n    .dataframe tbody tr th:only-of-type {\n        vertical-align: middle;\n    }\n\n    .dataframe tbody tr th {\n        vertical-align: top;\n    }\n\n    .dataframe thead th {\n        text-align: right;\n    }\n</style>\n<table border=\"1\" class=\"dataframe\">\n  <thead>\n    <tr style=\"text-align: right;\">\n      <th></th>\n      <th>client</th>\n      <th>k7_labels_iter_0</th>\n      <th>k7_labels_iter_1</th>\n      <th>k7_labels_iter_2</th>\n      <th>k7_labels_iter_3</th>\n      <th>k7_labels_iter_4</th>\n      <th>k7_labels_iter_5</th>\n      <th>k7_labels_iter_6</th>\n      <th>k7_labels_iter_7</th>\n    </tr>\n  </thead>\n  <tbody>\n    <tr>\n      <th>2</th>\n      <td>0000f46a3911fa3c0805444483337064</td>\n      <td>1.0</td>\n      <td>1.0</td>\n      <td>1.0</td>\n      <td>1.0</td>\n      <td>1.0</td>\n      <td>1.0</td>\n      <td>1.0</td>\n      <td>1.0</td>\n    </tr>\n    <tr>\n      <th>3</th>\n      <td>0000f6ccb0745a6a4b88665a16c9f078</td>\n      <td>6.0</td>\n      <td>6.0</td>\n      <td>6.0</td>\n      <td>6.0</td>\n      <td>6.0</td>\n      <td>1.0</td>\n      <td>1.0</td>\n      <td>1.0</td>\n    </tr>\n    <tr>\n      <th>4</th>\n      <td>0004aac84e0df4da2b147fca70cf8255</td>\n      <td>6.0</td>\n      <td>6.0</td>\n      <td>6.0</td>\n      <td>6.0</td>\n      <td>6.0</td>\n      <td>6.0</td>\n      <td>6.0</td>\n      <td>1.0</td>\n    </tr>\n    <tr>\n      <th>8</th>\n      <td>0005e1862207bf6ccc02e4228effd9a0</td>\n      <td>1.0</td>\n      <td>1.0</td>\n      <td>1.0</td>\n      <td>1.0</td>\n      <td>1.0</td>\n      <td>1.0</td>\n      <td>1.0</td>\n      <td>1.0</td>\n    </tr>\n    <tr>\n      <th>10</th>\n      <td>0006fdc98a402fceb4eb0ee528f6a8d4</td>\n      <td>2.0</td>\n      <td>2.0</td>\n      <td>1.0</td>\n      <td>1.0</td>\n      <td>1.0</td>\n      <td>1.0</td>\n      <td>1.0</td>\n      <td>1.0</td>\n    </tr>\n  </tbody>\n</table>\n</div>"
     },
     "execution_count": 12,
     "metadata": {},
     "output_type": "execute_result"
    }
   ],
   "source": [
    "anciens_clients.head(5)"
   ]
  },
  {
   "cell_type": "code",
   "execution_count": 13,
   "metadata": {
    "ExecuteTime": {
     "end_time": "2023-08-21T17:18:26.462619608Z",
     "start_time": "2023-08-21T17:18:26.405370484Z"
    }
   },
   "outputs": [
    {
     "name": "stdout",
     "output_type": "stream",
     "text": [
      "0.8424822969116385\n",
      "0.7146068086602955\n",
      "0.5993179550069633\n"
     ]
    }
   ],
   "source": [
    "print(adjusted_rand_score(anciens_clients['k7_labels_iter_0'], anciens_clients['k7_labels_iter_1']))\n",
    "print(adjusted_rand_score(anciens_clients['k7_labels_iter_0'], anciens_clients['k7_labels_iter_2']))\n",
    "print(adjusted_rand_score(anciens_clients['k7_labels_iter_0'], anciens_clients['k7_labels_iter_3']))"
   ]
  },
  {
   "cell_type": "code",
   "execution_count": 14,
   "metadata": {
    "ExecuteTime": {
     "end_time": "2023-08-21T17:18:27.643070998Z",
     "start_time": "2023-08-21T17:18:27.584981166Z"
    }
   },
   "outputs": [],
   "source": [
    "evol_ARI = []\n",
    "cnt = 0\n",
    "labels_initiaux = anciens_clients['k7_labels_iter_0']\n",
    "for col in anciens_clients.iloc[:, 1:].columns :\n",
    "    evol_ARI.append(adjusted_rand_score(labels_initiaux, anciens_clients[col]))\n",
    "    cnt += 1"
   ]
  },
  {
   "cell_type": "code",
   "execution_count": 15,
   "metadata": {
    "ExecuteTime": {
     "end_time": "2023-08-21T17:18:28.659581960Z",
     "start_time": "2023-08-21T17:18:28.486682167Z"
    }
   },
   "outputs": [
    {
     "data": {
      "text/plain": "<Figure size 1000x600 with 1 Axes>",
      "image/png": "[encoded data removed]"
     },
     "metadata": {},
     "output_type": "display_data"
    }
   ],
   "source": [
    "plt.figure(figsize=(10,6))\n",
    "plt.plot([x for x in range(cnt)], evol_ARI)\n",
    "plt.title(\"Évolution mensuelle de l'ARI pour les anciens clients (7-Means) \\n\")\n",
    "plt.xlabel(\"Nombre de mois écoulés\")\n",
    "plt.ylabel(\"ARI\")\n",
    "plt.ylim(0, 1)\n",
    "plt.show()"
   ]
  },
  {
   "attachments": {},
   "cell_type": "markdown",
   "metadata": {},
   "source": [
    "Le premier mois, 84% de notre clusterisation est maintenue (les permutations ne sont pas comptabilisées dans le Rand score). Au deuxième mois, on est à 71%, et au troisième, on passe a 59%.\n",
    "\n",
    "__Au plus tard, notre maintenance régulière doit être realisée tous les deux mois.__ Au-delà, plus de 40% de nos client auront changé de clusters."
   ]
  },
  {
   "attachments": {},
   "cell_type": "markdown",
   "metadata": {},
   "source": [
    "# Conclusion\n",
    "\n",
    "k=7 a de meilleures métriques de clusterisation. Les catégories qu'il met en valeur sont plus détaillées et même l'évolution de son ARI avec le temps est meilleur que pour k=6.\n",
    "\n",
    "Pour être sûr de la stabilité de la clusterisation, on va la répéter plusieurs fois avec un random_state non fixe, et on va mesurer l'ARI entre la clusterisation initiale et les clusterisation suivantes.."
   ]
  },
  {
   "cell_type": "code",
   "execution_count": 16,
   "metadata": {
    "ExecuteTime": {
     "end_time": "2023-08-21T17:19:22.722580425Z",
     "start_time": "2023-08-21T17:19:14.447375839Z"
    }
   },
   "outputs": [
    {
     "data": {
      "text/plain": "   depense  nbcommandes  recence  avis_moyen  nb_items_moyen\n0   141.90            1      111         5.0             1.0\n1    27.19            1      114         4.0             1.0",
      "text/html": "<div>\n<style scoped>\n    .dataframe tbody tr th:only-of-type {\n        vertical-align: middle;\n    }\n\n    .dataframe tbody tr th {\n        vertical-align: top;\n    }\n\n    .dataframe thead th {\n        text-align: right;\n    }\n</style>\n<table border=\"1\" class=\"dataframe\">\n  <thead>\n    <tr style=\"text-align: right;\">\n      <th></th>\n      <th>depense</th>\n      <th>nbcommandes</th>\n      <th>recence</th>\n      <th>avis_moyen</th>\n      <th>nb_items_moyen</th>\n    </tr>\n  </thead>\n  <tbody>\n    <tr>\n      <th>0</th>\n      <td>141.90</td>\n      <td>1</td>\n      <td>111</td>\n      <td>5.0</td>\n      <td>1.0</td>\n    </tr>\n    <tr>\n      <th>1</th>\n      <td>27.19</td>\n      <td>1</td>\n      <td>114</td>\n      <td>4.0</td>\n      <td>1.0</td>\n    </tr>\n  </tbody>\n</table>\n</div>"
     },
     "execution_count": 16,
     "metadata": {},
     "output_type": "execute_result"
    }
   ],
   "source": [
    "sdf = creer_tableau_synthese(df_ini=df, date_ref=df['order_purchase_timestamp'].max())\n",
    "dfw = sdf.drop(columns=['client', 'categorie_produit_preferee', 'reducs', 'montant_reducs'])\n",
    "dfw.head(2)"
   ]
  },
  {
   "cell_type": "code",
   "execution_count": 17,
   "metadata": {
    "ExecuteTime": {
     "end_time": "2023-08-21T17:19:22.805750954Z",
     "start_time": "2023-08-21T17:19:22.720549528Z"
    }
   },
   "outputs": [],
   "source": [
    "X = dfw.values\n",
    "X_scaled = StandardScaler().fit_transform(X)"
   ]
  },
  {
   "cell_type": "code",
   "execution_count": 18,
   "metadata": {
    "ExecuteTime": {
     "end_time": "2023-08-21T17:19:36.574198178Z",
     "start_time": "2023-08-21T17:19:22.767308799Z"
    }
   },
   "outputs": [],
   "source": [
    "resultats = pd.DataFrame()\n",
    "\n",
    "for i in range(0, 50) :\n",
    "    model = KMeans(n_init = KMEANS_NINIT, n_clusters=n_clusters)\n",
    "    model.fit(X_scaled)\n",
    "    # Sauvegarder les resultats\n",
    "    resultats.loc[:, f'labels_iter_{i}'] = model.predict(X_scaled)"
   ]
  },
  {
   "cell_type": "code",
   "execution_count": 19,
   "metadata": {
    "ExecuteTime": {
     "end_time": "2023-08-21T17:19:37.136636729Z",
     "start_time": "2023-08-21T17:19:36.587401102Z"
    }
   },
   "outputs": [],
   "source": [
    "evol_ARI = []\n",
    "cnt = 0\n",
    "labels_initiaux = resultats['labels_iter_0']\n",
    "for col in resultats.iloc[:, 1:].columns :\n",
    "    evol_ARI.append(adjusted_rand_score(labels_initiaux, resultats[col]))\n",
    "    cnt += 1"
   ]
  },
  {
   "cell_type": "code",
   "execution_count": 20,
   "metadata": {
    "ExecuteTime": {
     "end_time": "2023-08-21T17:19:37.282462339Z",
     "start_time": "2023-08-21T17:19:37.153682408Z"
    }
   },
   "outputs": [
    {
     "data": {
      "text/plain": "<Figure size 1000x600 with 1 Axes>",
      "image/png": "[encoded data removed]"
     },
     "metadata": {},
     "output_type": "display_data"
    }
   ],
   "source": [
    "plt.figure(figsize=(10,6))\n",
    "plt.plot([x for x in range(cnt)], evol_ARI)\n",
    "plt.title(\"Évolution de l'ARI d'un random state a l'autre (7-Means) \\n\")\n",
    "plt.xlabel(\"Iteration (random state)\")\n",
    "plt.ylabel(\"ARI\")\n",
    "plt.ylim(0, 1)\n",
    "plt.show()"
   ]
  },
  {
   "attachments": {},
   "cell_type": "markdown",
   "metadata": {},
   "source": [
    "Sur nos 50 itérations, la clusterisation varie peu (à la permutation près - cf. calcul d'ARI), en fonction de notre _random_state_. __Notre clusterisation est stable.__"
   ]
  },
  {
   "attachments": {},
   "cell_type": "markdown",
   "metadata": {},
   "source": [
    "# RFM\n",
    "\n",
    "La RFM etant une clusterisation ou la recence a un role determinant, on peut supposer qu'elle devienne rapidement obsolete. L'objectif de ce chapitre est de le demontrer."
   ]
  },
  {
   "cell_type": "code",
   "execution_count": 21,
   "metadata": {
    "ExecuteTime": {
     "end_time": "2023-08-21T17:19:49.879791109Z",
     "start_time": "2023-08-21T17:19:49.872727645Z"
    }
   },
   "outputs": [],
   "source": [
    "import seaborn as sns"
   ]
  },
  {
   "cell_type": "code",
   "execution_count": 22,
   "metadata": {
    "ExecuteTime": {
     "end_time": "2023-08-21T17:19:50.445969081Z",
     "start_time": "2023-08-21T17:19:50.218355622Z"
    }
   },
   "outputs": [
    {
     "data": {
      "text/plain": "                           order_id                       customer_id  \\\n0  e481f51cbdc54678b7cc49136f2d6af7  9ef432eb6251297304e76186b10a928d   \n1  53cdb2fc8bc7dce0b6741e2150273451  b0830fb4747a6c6d20dea0b8c802d7ef   \n\n  order_purchase_timestamp                customer_unique_id customer_state  \\\n0      2017-10-02 10:56:33  7c396fd4830fd04220f754e42b4e5bff             SP   \n1      2018-07-24 20:41:37  af07308b275d755c9edb36a90c618231         Autres   \n\n   nb_items cat_produit  reducs  montant_reducs  payment_value  review_score  \n0       1.0  housewares     2.0           20.59          38.71           4.0  \n1       1.0   perfumery     0.0            0.00         141.46           4.0  ",
      "text/html": "<div>\n<style scoped>\n    .dataframe tbody tr th:only-of-type {\n        vertical-align: middle;\n    }\n\n    .dataframe tbody tr th {\n        vertical-align: top;\n    }\n\n    .dataframe thead th {\n        text-align: right;\n    }\n</style>\n<table border=\"1\" class=\"dataframe\">\n  <thead>\n    <tr style=\"text-align: right;\">\n      <th></th>\n      <th>order_id</th>\n      <th>customer_id</th>\n      <th>order_purchase_timestamp</th>\n      <th>customer_unique_id</th>\n      <th>customer_state</th>\n      <th>nb_items</th>\n      <th>cat_produit</th>\n      <th>reducs</th>\n      <th>montant_reducs</th>\n      <th>payment_value</th>\n      <th>review_score</th>\n    </tr>\n  </thead>\n  <tbody>\n    <tr>\n      <th>0</th>\n      <td>e481f51cbdc54678b7cc49136f2d6af7</td>\n      <td>9ef432eb6251297304e76186b10a928d</td>\n      <td>2017-10-02 10:56:33</td>\n      <td>7c396fd4830fd04220f754e42b4e5bff</td>\n      <td>SP</td>\n      <td>1.0</td>\n      <td>housewares</td>\n      <td>2.0</td>\n      <td>20.59</td>\n      <td>38.71</td>\n      <td>4.0</td>\n    </tr>\n    <tr>\n      <th>1</th>\n      <td>53cdb2fc8bc7dce0b6741e2150273451</td>\n      <td>b0830fb4747a6c6d20dea0b8c802d7ef</td>\n      <td>2018-07-24 20:41:37</td>\n      <td>af07308b275d755c9edb36a90c618231</td>\n      <td>Autres</td>\n      <td>1.0</td>\n      <td>perfumery</td>\n      <td>0.0</td>\n      <td>0.00</td>\n      <td>141.46</td>\n      <td>4.0</td>\n    </tr>\n  </tbody>\n</table>\n</div>"
     },
     "execution_count": 22,
     "metadata": {},
     "output_type": "execute_result"
    }
   ],
   "source": [
    "df = pd.read_csv('./data_travail/df_merged.csv')\n",
    "df['order_purchase_timestamp'] = pd.to_datetime(df['order_purchase_timestamp'],yearfirst=True)\n",
    "df.head(2)"
   ]
  },
  {
   "cell_type": "code",
   "execution_count": 23,
   "metadata": {
    "ExecuteTime": {
     "end_time": "2023-08-21T17:20:00.088296624Z",
     "start_time": "2023-08-21T17:19:50.922624431Z"
    }
   },
   "outputs": [
    {
     "data": {
      "text/plain": "                             client  depense  nbcommandes  recence  \\\n0  0000366f3b9a7992bf8c76cfdf3221e2   141.90            1      111   \n1  0000b849f77a49e4a4ce2b2a4ca5be3f    27.19            1      114   \n\n   avis_moyen  nb_items_moyen  reducs  montant_reducs  \\\n0         5.0             1.0     0.0             0.0   \n1         4.0             1.0     0.0             0.0   \n\n  categorie_produit_preferee  \n0             bed_bath_table  \n1              health_beauty  ",
      "text/html": "<div>\n<style scoped>\n    .dataframe tbody tr th:only-of-type {\n        vertical-align: middle;\n    }\n\n    .dataframe tbody tr th {\n        vertical-align: top;\n    }\n\n    .dataframe thead th {\n        text-align: right;\n    }\n</style>\n<table border=\"1\" class=\"dataframe\">\n  <thead>\n    <tr style=\"text-align: right;\">\n      <th></th>\n      <th>client</th>\n      <th>depense</th>\n      <th>nbcommandes</th>\n      <th>recence</th>\n      <th>avis_moyen</th>\n      <th>nb_items_moyen</th>\n      <th>reducs</th>\n      <th>montant_reducs</th>\n      <th>categorie_produit_preferee</th>\n    </tr>\n  </thead>\n  <tbody>\n    <tr>\n      <th>0</th>\n      <td>0000366f3b9a7992bf8c76cfdf3221e2</td>\n      <td>141.90</td>\n      <td>1</td>\n      <td>111</td>\n      <td>5.0</td>\n      <td>1.0</td>\n      <td>0.0</td>\n      <td>0.0</td>\n      <td>bed_bath_table</td>\n    </tr>\n    <tr>\n      <th>1</th>\n      <td>0000b849f77a49e4a4ce2b2a4ca5be3f</td>\n      <td>27.19</td>\n      <td>1</td>\n      <td>114</td>\n      <td>4.0</td>\n      <td>1.0</td>\n      <td>0.0</td>\n      <td>0.0</td>\n      <td>health_beauty</td>\n    </tr>\n  </tbody>\n</table>\n</div>"
     },
     "execution_count": 23,
     "metadata": {},
     "output_type": "execute_result"
    }
   ],
   "source": [
    "DATEREF = max(df['order_purchase_timestamp'])\n",
    "synthese_df = creer_tableau_synthese(df_ini=df, date_ref=DATEREF)\n",
    "synthese_df.head(2)"
   ]
  },
  {
   "cell_type": "code",
   "execution_count": 24,
   "metadata": {
    "ExecuteTime": {
     "end_time": "2023-08-21T17:20:00.092965573Z",
     "start_time": "2023-08-21T17:20:00.091202956Z"
    }
   },
   "outputs": [],
   "source": [
    "def RFM_score(df, label_name = \"note_RFM\") :\n",
    "    dfres = df\n",
    "\n",
    "    # Creer un note de recence\n",
    "    dfres['segments_R'] = pd.qcut(df['recence'], 4)\n",
    "    dfres['note_R'] = pd.qcut(df['recence'], 4, labels=False)\n",
    "    dfres['segments_R'].value_counts()\n",
    "    # S'assurer que la note la plus elevee correspond a la recence la plus petite\n",
    "    dfres.loc[dfres['note_R']==0, 'note_R'] = 4\n",
    "    dfres.loc[dfres['note_R']==3, 'note_R'] = 0\n",
    "    dfres.loc[dfres['note_R']==4, 'note_R'] = 3\n",
    "    dfres.loc[dfres['note_R']==2, 'note_R'] = 4\n",
    "    dfres.loc[dfres['note_R']==1, 'note_R'] = 2\n",
    "    dfres.loc[dfres['note_R']==4, 'note_R'] = 1\n",
    "\n",
    "    # Creer note de frequence\n",
    "    dfres['note_F'] = 1\n",
    "    dfres.loc[dfres['nbcommandes'] > 1, 'note_F'] = 2\n",
    "\n",
    "    # Creer note Montant\n",
    "    dfres['segments_M'] = pd.qcut(dfres['depense'], 4)\n",
    "    dfres['note_M'] = pd.qcut(dfres['depense'], 4, labels=False)\n",
    "\n",
    "    dfres[label_name] = dfres['note_R'] + dfres['note_F'] + dfres['note_M']\n",
    "    return dfres"
   ]
  },
  {
   "cell_type": "code",
   "execution_count": 25,
   "metadata": {
    "ExecuteTime": {
     "end_time": "2023-08-21T17:20:00.412523653Z",
     "start_time": "2023-08-21T17:20:00.093658906Z"
    }
   },
   "outputs": [
    {
     "data": {
      "text/plain": "<Figure size 500x500 with 1 Axes>",
      "image/png": "[encoded data removed]"
     },
     "metadata": {},
     "output_type": "display_data"
    }
   ],
   "source": [
    "synthese_df = RFM_score(df=synthese_df)\n",
    "sns.displot(data = synthese_df, x='note_RFM')\n",
    "plt.title(\"Distribution note RFM/client \\n\")\n",
    "plt.show()"
   ]
  },
  {
   "cell_type": "code",
   "execution_count": 26,
   "metadata": {
    "ExecuteTime": {
     "end_time": "2023-08-21T17:20:00.469198405Z",
     "start_time": "2023-08-21T17:20:00.414507890Z"
    }
   },
   "outputs": [
    {
     "name": "stdout",
     "output_type": "stream",
     "text": [
      "Nb commandes sous date seuil :  43695\n"
     ]
    }
   ],
   "source": [
    "date_seuil_0 = dt.datetime(2018, 1, 1, 0, 0, 0)\n",
    "df_t0 = df[df['order_purchase_timestamp'] < date_seuil_0]\n",
    "print(\"Nb commandes sous date seuil : \", df_t0.shape[0])"
   ]
  },
  {
   "cell_type": "code",
   "execution_count": 27,
   "metadata": {
    "ExecuteTime": {
     "end_time": "2023-08-21T17:20:48.630362652Z",
     "start_time": "2023-08-21T17:20:00.455478213Z"
    }
   },
   "outputs": [],
   "source": [
    "ref_clients = pd.DataFrame()\n",
    "ref_clients['client'] = synthese_df['client']\n",
    "new_date = date_seuil_0\n",
    "\n",
    "for i in range(0, 8) : \n",
    "    # Faire evoluer la date\n",
    "    new_date = date_seuil_0 + relativedelta(months=i)\n",
    "    DATEREF = new_date\n",
    "    # Faire evoluer le tableau de commandes\n",
    "    df_current = df[df['order_purchase_timestamp'] < DATEREF]\n",
    "    # Generer une nouvelle synthese client\n",
    "    sdf = creer_tableau_synthese(df_ini=df_current, date_ref=DATEREF)\n",
    "    # Realiser un clustering\n",
    "    sdf = RFM_score(df=sdf)\n",
    "    ref_clients = ref_clients.merge(sdf[['client', 'note_RFM']], on='client', how='left')\n",
    "    ref_clients.rename(columns={'note_RFM' : f'note_RFM_{i}'}, inplace=True)"
   ]
  },
  {
   "cell_type": "code",
   "execution_count": 28,
   "metadata": {
    "ExecuteTime": {
     "end_time": "2023-08-21T17:20:48.630823646Z",
     "start_time": "2023-08-21T17:20:48.607344443Z"
    }
   },
   "outputs": [],
   "source": [
    "anciens_clients = ref_clients[~ref_clients['note_RFM_0'].isna()]"
   ]
  },
  {
   "cell_type": "code",
   "execution_count": 29,
   "metadata": {
    "ExecuteTime": {
     "end_time": "2023-08-21T17:20:48.650758025Z",
     "start_time": "2023-08-21T17:20:48.607538637Z"
    }
   },
   "outputs": [],
   "source": [
    "evol_ARI = []\n",
    "cnt = 0\n",
    "labels_initiaux = anciens_clients['note_RFM_0']\n",
    "for col in anciens_clients.iloc[:, 1:].columns :\n",
    "    evol_ARI.append(adjusted_rand_score(labels_initiaux, anciens_clients[col]))\n",
    "    cnt += 1"
   ]
  },
  {
   "cell_type": "code",
   "execution_count": 30,
   "metadata": {
    "ExecuteTime": {
     "end_time": "2023-08-21T17:20:48.803497261Z",
     "start_time": "2023-08-21T17:20:48.664914913Z"
    }
   },
   "outputs": [
    {
     "data": {
      "text/plain": "<Figure size 1000x600 with 1 Axes>",
      "image/png": "[encoded data removed]"
     },
     "metadata": {},
     "output_type": "display_data"
    }
   ],
   "source": [
    "plt.figure(figsize=(10,6))\n",
    "plt.plot([x for x in range(cnt)], evol_ARI)\n",
    "plt.title(\"Évolution de l'ARI en fonction de la RFM mensuelle \\n\")\n",
    "plt.xlabel(\"Mois passes\")\n",
    "plt.ylabel(\"ARI\")\n",
    "plt.ylim(0, 1)\n",
    "plt.show()"
   ]
  }
 ],
 "metadata": {
  "kernelspec": {
   "display_name": "oc_ds_p5",
   "language": "python",
   "name": "python3"
  },
  "language_info": {
   "codemirror_mode": {
    "name": "ipython",
    "version": 3
   },
   "file_extension": ".py",
   "mimetype": "text/x-python",
   "name": "python",
   "nbconvert_exporter": "python",
   "pygments_lexer": "ipython3",
   "version": "3.9.16"
  },
  "orig_nbformat": 4,
  "vscode": {
   "interpreter": {
    "hash": "223574a8bc09bf7642a2da4c53ff3fbe861f0ab8b31e3e5da5fe3a52e73cd0c9"
   }
  }
 },
 "nbformat": 4,
 "nbformat_minor": 2
}
